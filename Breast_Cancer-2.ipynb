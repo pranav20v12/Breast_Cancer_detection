{
  "nbformat": 4,
  "nbformat_minor": 0,
  "metadata": {
    "colab": {
      "name": "Breast Cancer",
      "provenance": [],
      "collapsed_sections": []
    },
    "kernelspec": {
      "name": "python3",
      "display_name": "Python 3"
    },
    "language_info": {
      "name": "python"
    },
    "accelerator": "GPU"
  },
  "cells": [
    {
      "cell_type": "code",
      "execution_count": null,
      "metadata": {
        "id": "mt6d5KEbGfUc"
      },
      "outputs": [],
      "source": [
        "import pandas as pd\n",
        "import matplotlib.pyplot as plt\n",
        "import seaborn as sns\n",
        "import numpy as np\n",
        "from sklearn.metrics import confusion_matrix\n",
        "from sklearn.metrics import accuracy_score"
      ]
    },
    {
      "cell_type": "code",
      "source": [
        "df = pd.read_csv('/content/data.csv')"
      ],
      "metadata": {
        "id": "oR7JUBxsMDUw"
      },
      "execution_count": null,
      "outputs": []
    },
    {
      "cell_type": "markdown",
      "source": [
        "Data Preprocessing"
      ],
      "metadata": {
        "id": "zm8_imhDRrEp"
      }
    },
    {
      "cell_type": "code",
      "source": [
        "print(df.describe().T)"
      ],
      "metadata": {
        "colab": {
          "base_uri": "https://localhost:8080/"
        },
        "id": "EBYMYwyGMItJ",
        "outputId": "6a0f6091-68c4-4b4e-b010-9ba6285a6a36"
      },
      "execution_count": null,
      "outputs": [
        {
          "output_type": "stream",
          "name": "stdout",
          "text": [
            "                         count          mean  ...           75%           max\n",
            "id                       569.0  3.037183e+07  ...  8.813129e+06  9.113205e+08\n",
            "radius_mean              569.0  1.412729e+01  ...  1.578000e+01  2.811000e+01\n",
            "texture_mean             569.0  1.928965e+01  ...  2.180000e+01  3.928000e+01\n",
            "perimeter_mean           569.0  9.196903e+01  ...  1.041000e+02  1.885000e+02\n",
            "area_mean                569.0  6.548891e+02  ...  7.827000e+02  2.501000e+03\n",
            "smoothness_mean          569.0  9.636028e-02  ...  1.053000e-01  1.634000e-01\n",
            "compactness_mean         569.0  1.043410e-01  ...  1.304000e-01  3.454000e-01\n",
            "concavity_mean           569.0  8.879932e-02  ...  1.307000e-01  4.268000e-01\n",
            "concave points_mean      569.0  4.891915e-02  ...  7.400000e-02  2.012000e-01\n",
            "symmetry_mean            569.0  1.811619e-01  ...  1.957000e-01  3.040000e-01\n",
            "fractal_dimension_mean   569.0  6.279761e-02  ...  6.612000e-02  9.744000e-02\n",
            "radius_se                569.0  4.051721e-01  ...  4.789000e-01  2.873000e+00\n",
            "texture_se               569.0  1.216853e+00  ...  1.474000e+00  4.885000e+00\n",
            "perimeter_se             569.0  2.866059e+00  ...  3.357000e+00  2.198000e+01\n",
            "area_se                  569.0  4.033708e+01  ...  4.519000e+01  5.422000e+02\n",
            "smoothness_se            569.0  7.040979e-03  ...  8.146000e-03  3.113000e-02\n",
            "compactness_se           569.0  2.547814e-02  ...  3.245000e-02  1.354000e-01\n",
            "concavity_se             569.0  3.189372e-02  ...  4.205000e-02  3.960000e-01\n",
            "concave points_se        569.0  1.179614e-02  ...  1.471000e-02  5.279000e-02\n",
            "symmetry_se              569.0  2.054230e-02  ...  2.348000e-02  7.895000e-02\n",
            "fractal_dimension_se     569.0  3.794904e-03  ...  4.558000e-03  2.984000e-02\n",
            "radius_worst             569.0  1.626919e+01  ...  1.879000e+01  3.604000e+01\n",
            "texture_worst            569.0  2.567722e+01  ...  2.972000e+01  4.954000e+01\n",
            "perimeter_worst          569.0  1.072612e+02  ...  1.254000e+02  2.512000e+02\n",
            "area_worst               569.0  8.805831e+02  ...  1.084000e+03  4.254000e+03\n",
            "smoothness_worst         569.0  1.323686e-01  ...  1.460000e-01  2.226000e-01\n",
            "compactness_worst        569.0  2.542650e-01  ...  3.391000e-01  1.058000e+00\n",
            "concavity_worst          569.0  2.721885e-01  ...  3.829000e-01  1.252000e+00\n",
            "concave points_worst     569.0  1.146062e-01  ...  1.614000e-01  2.910000e-01\n",
            "symmetry_worst           569.0  2.900756e-01  ...  3.179000e-01  6.638000e-01\n",
            "fractal_dimension_worst  569.0  8.394582e-02  ...  9.208000e-02  2.075000e-01\n",
            "Unnamed: 32                0.0           NaN  ...           NaN           NaN\n",
            "\n",
            "[32 rows x 8 columns]\n"
          ]
        }
      ]
    },
    {
      "cell_type": "code",
      "source": [
        "print(df.isnull().sum())"
      ],
      "metadata": {
        "colab": {
          "base_uri": "https://localhost:8080/"
        },
        "id": "pcF5MW6IQrC7",
        "outputId": "c90b8efb-c178-4bcf-b459-5ff4dd1cf27f"
      },
      "execution_count": null,
      "outputs": [
        {
          "output_type": "stream",
          "name": "stdout",
          "text": [
            "id                           0\n",
            "diagnosis                    0\n",
            "radius_mean                  0\n",
            "texture_mean                 0\n",
            "perimeter_mean               0\n",
            "area_mean                    0\n",
            "smoothness_mean              0\n",
            "compactness_mean             0\n",
            "concavity_mean               0\n",
            "concave points_mean          0\n",
            "symmetry_mean                0\n",
            "fractal_dimension_mean       0\n",
            "radius_se                    0\n",
            "texture_se                   0\n",
            "perimeter_se                 0\n",
            "area_se                      0\n",
            "smoothness_se                0\n",
            "compactness_se               0\n",
            "concavity_se                 0\n",
            "concave points_se            0\n",
            "symmetry_se                  0\n",
            "fractal_dimension_se         0\n",
            "radius_worst                 0\n",
            "texture_worst                0\n",
            "perimeter_worst              0\n",
            "area_worst                   0\n",
            "smoothness_worst             0\n",
            "compactness_worst            0\n",
            "concavity_worst              0\n",
            "concave points_worst         0\n",
            "symmetry_worst               0\n",
            "fractal_dimension_worst      0\n",
            "Unnamed: 32                569\n",
            "dtype: int64\n"
          ]
        }
      ]
    },
    {
      "cell_type": "code",
      "source": [
        "df = df.rename(columns = {'diagnosis':'Label'})\n",
        "print(df.dtypes)"
      ],
      "metadata": {
        "colab": {
          "base_uri": "https://localhost:8080/"
        },
        "id": "10Q2vrBvTIBj",
        "outputId": "ae3fe8a7-a898-4f1f-b081-1abeffe0088a"
      },
      "execution_count": null,
      "outputs": [
        {
          "output_type": "stream",
          "name": "stdout",
          "text": [
            "id                           int64\n",
            "Label                       object\n",
            "radius_mean                float64\n",
            "texture_mean               float64\n",
            "perimeter_mean             float64\n",
            "area_mean                  float64\n",
            "smoothness_mean            float64\n",
            "compactness_mean           float64\n",
            "concavity_mean             float64\n",
            "concave points_mean        float64\n",
            "symmetry_mean              float64\n",
            "fractal_dimension_mean     float64\n",
            "radius_se                  float64\n",
            "texture_se                 float64\n",
            "perimeter_se               float64\n",
            "area_se                    float64\n",
            "smoothness_se              float64\n",
            "compactness_se             float64\n",
            "concavity_se               float64\n",
            "concave points_se          float64\n",
            "symmetry_se                float64\n",
            "fractal_dimension_se       float64\n",
            "radius_worst               float64\n",
            "texture_worst              float64\n",
            "perimeter_worst            float64\n",
            "area_worst                 float64\n",
            "smoothness_worst           float64\n",
            "compactness_worst          float64\n",
            "concavity_worst            float64\n",
            "concave points_worst       float64\n",
            "symmetry_worst             float64\n",
            "fractal_dimension_worst    float64\n",
            "Unnamed: 32                float64\n",
            "dtype: object\n"
          ]
        }
      ]
    },
    {
      "cell_type": "code",
      "source": [
        "sns.countplot(x='Label',data=df)"
      ],
      "metadata": {
        "colab": {
          "base_uri": "https://localhost:8080/",
          "height": 316
        },
        "id": "bS7L7QoFVEoK",
        "outputId": "23d37bff-98f4-47ed-c052-7b869b200fb5"
      },
      "execution_count": null,
      "outputs": [
        {
          "output_type": "execute_result",
          "data": {
            "text/plain": [
              "<matplotlib.axes._subplots.AxesSubplot at 0x7fccd43ff890>"
            ]
          },
          "metadata": {},
          "execution_count": 6
        },
        {
          "output_type": "display_data",
          "data": {
            "image/png": "[encoded data removed]",
            "text/plain": [
              "<Figure size 432x288 with 1 Axes>"
            ]
          },
          "metadata": {
            "needs_background": "light"
          }
        }
      ]
    },
    {
      "cell_type": "code",
      "source": [
        "print('Distribution of data',df['Label'].value_counts())\n",
        "y = df['Label'].values\n",
        "print('Labels before encoding are:',np.unique(y))\n",
        "from sklearn.preprocessing import LabelEncoder\n",
        "labelEncoder = LabelEncoder()\n",
        "Y = labelEncoder.fit_transform(y)\n",
        "print('Labels after encoding are',np.unique(Y))"
      ],
      "metadata": {
        "colab": {
          "base_uri": "https://localhost:8080/"
        },
        "id": "QefhuyfLVNAo",
        "outputId": "c0779bad-1249-42ab-fc1d-e9e5c86a14a5"
      },
      "execution_count": null,
      "outputs": [
        {
          "output_type": "stream",
          "name": "stdout",
          "text": [
            "Distribution of data B    357\n",
            "M    212\n",
            "Name: Label, dtype: int64\n",
            "Labels before encoding are: ['B' 'M']\n",
            "Labels after encoding are [0 1]\n"
          ]
        }
      ]
    },
    {
      "cell_type": "code",
      "source": [
        "print(df.describe().T)"
      ],
      "metadata": {
        "colab": {
          "base_uri": "https://localhost:8080/"
        },
        "id": "EE6HrqfIXJIn",
        "outputId": "12898322-d596-449f-b8e4-b499775eafab"
      },
      "execution_count": null,
      "outputs": [
        {
          "output_type": "stream",
          "name": "stdout",
          "text": [
            "                         count          mean  ...           75%           max\n",
            "id                       569.0  3.037183e+07  ...  8.813129e+06  9.113205e+08\n",
            "radius_mean              569.0  1.412729e+01  ...  1.578000e+01  2.811000e+01\n",
            "texture_mean             569.0  1.928965e+01  ...  2.180000e+01  3.928000e+01\n",
            "perimeter_mean           569.0  9.196903e+01  ...  1.041000e+02  1.885000e+02\n",
            "area_mean                569.0  6.548891e+02  ...  7.827000e+02  2.501000e+03\n",
            "smoothness_mean          569.0  9.636028e-02  ...  1.053000e-01  1.634000e-01\n",
            "compactness_mean         569.0  1.043410e-01  ...  1.304000e-01  3.454000e-01\n",
            "concavity_mean           569.0  8.879932e-02  ...  1.307000e-01  4.268000e-01\n",
            "concave points_mean      569.0  4.891915e-02  ...  7.400000e-02  2.012000e-01\n",
            "symmetry_mean            569.0  1.811619e-01  ...  1.957000e-01  3.040000e-01\n",
            "fractal_dimension_mean   569.0  6.279761e-02  ...  6.612000e-02  9.744000e-02\n",
            "radius_se                569.0  4.051721e-01  ...  4.789000e-01  2.873000e+00\n",
            "texture_se               569.0  1.216853e+00  ...  1.474000e+00  4.885000e+00\n",
            "perimeter_se             569.0  2.866059e+00  ...  3.357000e+00  2.198000e+01\n",
            "area_se                  569.0  4.033708e+01  ...  4.519000e+01  5.422000e+02\n",
            "smoothness_se            569.0  7.040979e-03  ...  8.146000e-03  3.113000e-02\n",
            "compactness_se           569.0  2.547814e-02  ...  3.245000e-02  1.354000e-01\n",
            "concavity_se             569.0  3.189372e-02  ...  4.205000e-02  3.960000e-01\n",
            "concave points_se        569.0  1.179614e-02  ...  1.471000e-02  5.279000e-02\n",
            "symmetry_se              569.0  2.054230e-02  ...  2.348000e-02  7.895000e-02\n",
            "fractal_dimension_se     569.0  3.794904e-03  ...  4.558000e-03  2.984000e-02\n",
            "radius_worst             569.0  1.626919e+01  ...  1.879000e+01  3.604000e+01\n",
            "texture_worst            569.0  2.567722e+01  ...  2.972000e+01  4.954000e+01\n",
            "perimeter_worst          569.0  1.072612e+02  ...  1.254000e+02  2.512000e+02\n",
            "area_worst               569.0  8.805831e+02  ...  1.084000e+03  4.254000e+03\n",
            "smoothness_worst         569.0  1.323686e-01  ...  1.460000e-01  2.226000e-01\n",
            "compactness_worst        569.0  2.542650e-01  ...  3.391000e-01  1.058000e+00\n",
            "concavity_worst          569.0  2.721885e-01  ...  3.829000e-01  1.252000e+00\n",
            "concave points_worst     569.0  1.146062e-01  ...  1.614000e-01  2.910000e-01\n",
            "symmetry_worst           569.0  2.900756e-01  ...  3.179000e-01  6.638000e-01\n",
            "fractal_dimension_worst  569.0  8.394582e-02  ...  9.208000e-02  2.075000e-01\n",
            "Unnamed: 32                0.0           NaN  ...           NaN           NaN\n",
            "\n",
            "[32 rows x 8 columns]\n"
          ]
        }
      ]
    },
    {
      "cell_type": "code",
      "source": [
        "df.columns"
      ],
      "metadata": {
        "colab": {
          "base_uri": "https://localhost:8080/"
        },
        "id": "PB0jj8hwcLOM",
        "outputId": "7c8f34a3-fc27-430c-d43f-111a82638c01"
      },
      "execution_count": null,
      "outputs": [
        {
          "output_type": "execute_result",
          "data": {
            "text/plain": [
              "Index(['id', 'Label', 'radius_mean', 'texture_mean', 'perimeter_mean',\n",
              "       'area_mean', 'smoothness_mean', 'compactness_mean', 'concavity_mean',\n",
              "       'concave points_mean', 'symmetry_mean', 'fractal_dimension_mean',\n",
              "       'radius_se', 'texture_se', 'perimeter_se', 'area_se', 'smoothness_se',\n",
              "       'compactness_se', 'concavity_se', 'concave points_se', 'symmetry_se',\n",
              "       'fractal_dimension_se', 'radius_worst', 'texture_worst',\n",
              "       'perimeter_worst', 'area_worst', 'smoothness_worst',\n",
              "       'compactness_worst', 'concavity_worst', 'concave points_worst',\n",
              "       'symmetry_worst', 'fractal_dimension_worst', 'Unnamed: 32'],\n",
              "      dtype='object')"
            ]
          },
          "metadata": {},
          "execution_count": 9
        }
      ]
    },
    {
      "cell_type": "code",
      "source": [
        "#Defining the independent variables, Drop labels and ID and normalize other data\n",
        "X = df.drop(labels = ['Label','id','Unnamed: 32'],axis = 1)\n"
      ],
      "metadata": {
        "id": "mjdufYTYWSLr"
      },
      "execution_count": null,
      "outputs": []
    },
    {
      "cell_type": "markdown",
      "source": [
        "Feature Scaling"
      ],
      "metadata": {
        "id": "dNQDBP7CR6qe"
      }
    },
    {
      "cell_type": "code",
      "source": [
        "from sklearn.preprocessing import StandardScaler\n",
        "scaler = StandardScaler()\n",
        "X = scaler.fit_transform(X)"
      ],
      "metadata": {
        "id": "gRuvYBW6W4fx"
      },
      "execution_count": null,
      "outputs": []
    },
    {
      "cell_type": "code",
      "source": [
        "from sklearn.model_selection import train_test_split\n",
        "x_train,x_test,y_train,y_test = train_test_split(X,Y,test_size =0.25)"
      ],
      "metadata": {
        "id": "rqEWZgbHX5Sh"
      },
      "execution_count": null,
      "outputs": []
    },
    {
      "cell_type": "code",
      "source": [
        "print('Shape Of Training Data is:',x_train.shape)\n",
        "print('Shape of Testing Data is',x_test.shape)"
      ],
      "metadata": {
        "colab": {
          "base_uri": "https://localhost:8080/"
        },
        "id": "Esusp0pVYx2A",
        "outputId": "48639c3e-0a59-4526-a1b3-f6d83603cd3c"
      },
      "execution_count": null,
      "outputs": [
        {
          "output_type": "stream",
          "name": "stdout",
          "text": [
            "Shape Of Training Data is: (426, 30)\n",
            "Shape of Testing Data is (143, 30)\n"
          ]
        }
      ]
    },
    {
      "cell_type": "code",
      "source": [
        "pd.DataFrame(x_train)"
      ],
      "metadata": {
        "colab": {
          "base_uri": "https://localhost:8080/",
          "height": 477
        },
        "id": "T3olIkdubVlO",
        "outputId": "9ebfbe94-753a-4bf3-f29d-13325327514e"
      },
      "execution_count": null,
      "outputs": [
        {
          "output_type": "execute_result",
          "data": {
            "text/html": [
              "\n",
              "  <div id=\"df-1ad0523b-8864-4e0b-923c-3c29304931d7\">\n",
              "    <div class=\"colab-df-container\">\n",
              "      <div>\n",
              "<style scoped>\n",
              "    .dataframe tbody tr th:only-of-type {\n",
              "        vertical-align: middle;\n",
              "    }\n",
              "\n",
              "    .dataframe tbody tr th {\n",
              "        vertical-align: top;\n",
              "    }\n",
              "\n",
              "    .dataframe thead th {\n",
              "        text-align: right;\n",
              "    }\n",
              "</style>\n",
              "<table border=\"1\" class=\"dataframe\">\n",
              "  <thead>\n",
              "    <tr style=\"text-align: right;\">\n",
              "      <th></th>\n",
              "      <th>0</th>\n",
              "      <th>1</th>\n",
              "      <th>2</th>\n",
              "      <th>3</th>\n",
              "      <th>4</th>\n",
              "      <th>5</th>\n",
              "      <th>6</th>\n",
              "      <th>7</th>\n",
              "      <th>8</th>\n",
              "      <th>9</th>\n",
              "      <th>10</th>\n",
              "      <th>11</th>\n",
              "      <th>12</th>\n",
              "      <th>13</th>\n",
              "      <th>14</th>\n",
              "      <th>15</th>\n",
              "      <th>16</th>\n",
              "      <th>17</th>\n",
              "      <th>18</th>\n",
              "      <th>19</th>\n",
              "      <th>20</th>\n",
              "      <th>21</th>\n",
              "      <th>22</th>\n",
              "      <th>23</th>\n",
              "      <th>24</th>\n",
              "      <th>25</th>\n",
              "      <th>26</th>\n",
              "      <th>27</th>\n",
              "      <th>28</th>\n",
              "      <th>29</th>\n",
              "    </tr>\n",
              "  </thead>\n",
              "  <tbody>\n",
              "    <tr>\n",
              "      <th>0</th>\n",
              "      <td>-1.488033</td>\n",
              "      <td>-1.082004</td>\n",
              "      <td>-1.366651</td>\n",
              "      <td>-1.168611</td>\n",
              "      <td>0.104593</td>\n",
              "      <td>0.924055</td>\n",
              "      <td>-0.034392</td>\n",
              "      <td>-0.521016</td>\n",
              "      <td>0.329977</td>\n",
              "      <td>3.827870</td>\n",
              "      <td>0.436815</td>\n",
              "      <td>-0.661607</td>\n",
              "      <td>0.149470</td>\n",
              "      <td>-0.327761</td>\n",
              "      <td>3.389811</td>\n",
              "      <td>3.811771</td>\n",
              "      <td>0.822834</td>\n",
              "      <td>0.951175</td>\n",
              "      <td>0.589374</td>\n",
              "      <td>6.859624</td>\n",
              "      <td>-1.353531</td>\n",
              "      <td>-1.629614</td>\n",
              "      <td>-1.331463</td>\n",
              "      <td>-1.048038</td>\n",
              "      <td>-0.511503</td>\n",
              "      <td>-0.067845</td>\n",
              "      <td>-0.617866</td>\n",
              "      <td>-1.016318</td>\n",
              "      <td>-1.046309</td>\n",
              "      <td>1.355149</td>\n",
              "    </tr>\n",
              "    <tr>\n",
              "      <th>1</th>\n",
              "      <td>2.874993</td>\n",
              "      <td>0.211845</td>\n",
              "      <td>3.057588</td>\n",
              "      <td>3.145893</td>\n",
              "      <td>3.440117</td>\n",
              "      <td>3.455973</td>\n",
              "      <td>4.243589</td>\n",
              "      <td>3.927930</td>\n",
              "      <td>3.079138</td>\n",
              "      <td>0.846648</td>\n",
              "      <td>3.983947</td>\n",
              "      <td>3.452962</td>\n",
              "      <td>3.435978</td>\n",
              "      <td>4.238914</td>\n",
              "      <td>5.429894</td>\n",
              "      <td>4.056567</td>\n",
              "      <td>3.179967</td>\n",
              "      <td>1.042013</td>\n",
              "      <td>3.018209</td>\n",
              "      <td>2.299805</td>\n",
              "      <td>2.019222</td>\n",
              "      <td>-0.274754</td>\n",
              "      <td>2.193393</td>\n",
              "      <td>2.096165</td>\n",
              "      <td>1.632072</td>\n",
              "      <td>1.082296</td>\n",
              "      <td>1.478172</td>\n",
              "      <td>1.677876</td>\n",
              "      <td>0.519703</td>\n",
              "      <td>-0.213673</td>\n",
              "    </tr>\n",
              "    <tr>\n",
              "      <th>2</th>\n",
              "      <td>-0.317327</td>\n",
              "      <td>0.681912</td>\n",
              "      <td>-0.410215</td>\n",
              "      <td>-0.365436</td>\n",
              "      <td>-2.408970</td>\n",
              "      <td>-1.610136</td>\n",
              "      <td>-1.094848</td>\n",
              "      <td>-1.214049</td>\n",
              "      <td>-1.521051</td>\n",
              "      <td>-1.482475</td>\n",
              "      <td>-0.837597</td>\n",
              "      <td>-0.135810</td>\n",
              "      <td>-0.873758</td>\n",
              "      <td>-0.571980</td>\n",
              "      <td>-1.207709</td>\n",
              "      <td>-1.298098</td>\n",
              "      <td>-1.004615</td>\n",
              "      <td>-1.613035</td>\n",
              "      <td>-0.534235</td>\n",
              "      <td>-1.069167</td>\n",
              "      <td>-0.469910</td>\n",
              "      <td>0.544350</td>\n",
              "      <td>-0.568350</td>\n",
              "      <td>-0.477771</td>\n",
              "      <td>-2.240829</td>\n",
              "      <td>-1.399158</td>\n",
              "      <td>-1.267561</td>\n",
              "      <td>-1.604080</td>\n",
              "      <td>-0.979980</td>\n",
              "      <td>-1.413980</td>\n",
              "    </tr>\n",
              "    <tr>\n",
              "      <th>3</th>\n",
              "      <td>0.869853</td>\n",
              "      <td>0.647006</td>\n",
              "      <td>0.808603</td>\n",
              "      <td>0.777609</td>\n",
              "      <td>0.064029</td>\n",
              "      <td>-0.272730</td>\n",
              "      <td>0.022733</td>\n",
              "      <td>0.421754</td>\n",
              "      <td>0.202194</td>\n",
              "      <td>-0.991984</td>\n",
              "      <td>0.054600</td>\n",
              "      <td>-0.868260</td>\n",
              "      <td>-0.023296</td>\n",
              "      <td>0.111833</td>\n",
              "      <td>-0.849361</td>\n",
              "      <td>-0.749934</td>\n",
              "      <td>-0.378445</td>\n",
              "      <td>-0.311627</td>\n",
              "      <td>-1.102093</td>\n",
              "      <td>-0.839682</td>\n",
              "      <td>1.099776</td>\n",
              "      <td>0.594832</td>\n",
              "      <td>0.990045</td>\n",
              "      <td>0.976374</td>\n",
              "      <td>1.027137</td>\n",
              "      <td>0.015490</td>\n",
              "      <td>0.559926</td>\n",
              "      <td>1.275894</td>\n",
              "      <td>0.509996</td>\n",
              "      <td>-0.456949</td>\n",
              "    </tr>\n",
              "    <tr>\n",
              "      <th>4</th>\n",
              "      <td>0.872693</td>\n",
              "      <td>1.217138</td>\n",
              "      <td>0.915698</td>\n",
              "      <td>0.780737</td>\n",
              "      <td>0.764297</td>\n",
              "      <td>1.490705</td>\n",
              "      <td>1.009428</td>\n",
              "      <td>0.787254</td>\n",
              "      <td>0.421251</td>\n",
              "      <td>0.293783</td>\n",
              "      <td>0.669609</td>\n",
              "      <td>-0.319059</td>\n",
              "      <td>0.415301</td>\n",
              "      <td>0.640974</td>\n",
              "      <td>-0.407009</td>\n",
              "      <td>1.714795</td>\n",
              "      <td>0.352336</td>\n",
              "      <td>-0.085345</td>\n",
              "      <td>-0.638362</td>\n",
              "      <td>0.947178</td>\n",
              "      <td>1.460100</td>\n",
              "      <td>1.326001</td>\n",
              "      <td>1.320668</td>\n",
              "      <td>1.407063</td>\n",
              "      <td>1.145493</td>\n",
              "      <td>3.086136</td>\n",
              "      <td>1.844223</td>\n",
              "      <td>1.146468</td>\n",
              "      <td>0.666921</td>\n",
              "      <td>2.768252</td>\n",
              "    </tr>\n",
              "    <tr>\n",
              "      <th>...</th>\n",
              "      <td>...</td>\n",
              "      <td>...</td>\n",
              "      <td>...</td>\n",
              "      <td>...</td>\n",
              "      <td>...</td>\n",
              "      <td>...</td>\n",
              "      <td>...</td>\n",
              "      <td>...</td>\n",
              "      <td>...</td>\n",
              "      <td>...</td>\n",
              "      <td>...</td>\n",
              "      <td>...</td>\n",
              "      <td>...</td>\n",
              "      <td>...</td>\n",
              "      <td>...</td>\n",
              "      <td>...</td>\n",
              "      <td>...</td>\n",
              "      <td>...</td>\n",
              "      <td>...</td>\n",
              "      <td>...</td>\n",
              "      <td>...</td>\n",
              "      <td>...</td>\n",
              "      <td>...</td>\n",
              "      <td>...</td>\n",
              "      <td>...</td>\n",
              "      <td>...</td>\n",
              "      <td>...</td>\n",
              "      <td>...</td>\n",
              "      <td>...</td>\n",
              "      <td>...</td>\n",
              "    </tr>\n",
              "    <tr>\n",
              "      <th>421</th>\n",
              "      <td>0.580158</td>\n",
              "      <td>-0.749234</td>\n",
              "      <td>0.590295</td>\n",
              "      <td>0.380003</td>\n",
              "      <td>0.173624</td>\n",
              "      <td>0.747807</td>\n",
              "      <td>-0.279842</td>\n",
              "      <td>0.130282</td>\n",
              "      <td>0.651260</td>\n",
              "      <td>0.414279</td>\n",
              "      <td>-0.832544</td>\n",
              "      <td>-1.320576</td>\n",
              "      <td>-0.750991</td>\n",
              "      <td>-0.559439</td>\n",
              "      <td>-0.843694</td>\n",
              "      <td>-0.411243</td>\n",
              "      <td>-0.410607</td>\n",
              "      <td>0.026580</td>\n",
              "      <td>-0.145573</td>\n",
              "      <td>-0.037411</td>\n",
              "      <td>0.145126</td>\n",
              "      <td>-1.064546</td>\n",
              "      <td>0.173913</td>\n",
              "      <td>-0.033546</td>\n",
              "      <td>-0.388763</td>\n",
              "      <td>0.004675</td>\n",
              "      <td>-0.291634</td>\n",
              "      <td>0.159785</td>\n",
              "      <td>0.408076</td>\n",
              "      <td>0.313331</td>\n",
              "    </tr>\n",
              "    <tr>\n",
              "      <th>422</th>\n",
              "      <td>-0.675185</td>\n",
              "      <td>0.207191</td>\n",
              "      <td>-0.653649</td>\n",
              "      <td>-0.668618</td>\n",
              "      <td>0.892395</td>\n",
              "      <td>0.184948</td>\n",
              "      <td>-0.255736</td>\n",
              "      <td>-0.297641</td>\n",
              "      <td>0.662213</td>\n",
              "      <td>0.245584</td>\n",
              "      <td>0.348751</td>\n",
              "      <td>0.863894</td>\n",
              "      <td>0.524703</td>\n",
              "      <td>-0.043939</td>\n",
              "      <td>0.797373</td>\n",
              "      <td>-0.079818</td>\n",
              "      <td>0.324152</td>\n",
              "      <td>-0.044792</td>\n",
              "      <td>1.625806</td>\n",
              "      <td>0.478903</td>\n",
              "      <td>-0.610726</td>\n",
              "      <td>0.086759</td>\n",
              "      <td>-0.546606</td>\n",
              "      <td>-0.591860</td>\n",
              "      <td>0.150419</td>\n",
              "      <td>-0.413905</td>\n",
              "      <td>-0.367435</td>\n",
              "      <td>-0.540791</td>\n",
              "      <td>0.432343</td>\n",
              "      <td>-0.225865</td>\n",
              "    </tr>\n",
              "    <tr>\n",
              "      <th>423</th>\n",
              "      <td>0.892574</td>\n",
              "      <td>1.426574</td>\n",
              "      <td>0.841556</td>\n",
              "      <td>0.779031</td>\n",
              "      <td>-0.928729</td>\n",
              "      <td>0.124303</td>\n",
              "      <td>0.396746</td>\n",
              "      <td>0.217723</td>\n",
              "      <td>-1.258183</td>\n",
              "      <td>-1.237230</td>\n",
              "      <td>0.378346</td>\n",
              "      <td>0.838493</td>\n",
              "      <td>0.206398</td>\n",
              "      <td>0.396975</td>\n",
              "      <td>0.356021</td>\n",
              "      <td>0.983760</td>\n",
              "      <td>0.581119</td>\n",
              "      <td>0.912245</td>\n",
              "      <td>-0.557239</td>\n",
              "      <td>-0.021146</td>\n",
              "      <td>0.851277</td>\n",
              "      <td>1.593064</td>\n",
              "      <td>0.760694</td>\n",
              "      <td>0.709172</td>\n",
              "      <td>0.492339</td>\n",
              "      <td>1.004687</td>\n",
              "      <td>1.110202</td>\n",
              "      <td>0.902842</td>\n",
              "      <td>-0.648335</td>\n",
              "      <td>-0.249694</td>\n",
              "    </tr>\n",
              "    <tr>\n",
              "      <th>424</th>\n",
              "      <td>0.455192</td>\n",
              "      <td>-1.863899</td>\n",
              "      <td>0.446130</td>\n",
              "      <td>0.262542</td>\n",
              "      <td>0.565034</td>\n",
              "      <td>0.484381</td>\n",
              "      <td>0.380424</td>\n",
              "      <td>0.340245</td>\n",
              "      <td>-0.100834</td>\n",
              "      <td>-0.029431</td>\n",
              "      <td>-0.874050</td>\n",
              "      <td>-1.505458</td>\n",
              "      <td>-0.852967</td>\n",
              "      <td>-0.582321</td>\n",
              "      <td>-0.335673</td>\n",
              "      <td>-0.406772</td>\n",
              "      <td>0.048618</td>\n",
              "      <td>-0.182670</td>\n",
              "      <td>-1.064558</td>\n",
              "      <td>-0.582092</td>\n",
              "      <td>0.153409</td>\n",
              "      <td>-1.868995</td>\n",
              "      <td>0.156042</td>\n",
              "      <td>-0.046203</td>\n",
              "      <td>0.952616</td>\n",
              "      <td>0.277579</td>\n",
              "      <td>0.615098</td>\n",
              "      <td>0.465839</td>\n",
              "      <td>-0.556121</td>\n",
              "      <td>-0.118358</td>\n",
              "    </tr>\n",
              "    <tr>\n",
              "      <th>425</th>\n",
              "      <td>1.429361</td>\n",
              "      <td>1.701168</td>\n",
              "      <td>1.409980</td>\n",
              "      <td>1.374017</td>\n",
              "      <td>0.401353</td>\n",
              "      <td>0.776234</td>\n",
              "      <td>1.296937</td>\n",
              "      <td>1.230911</td>\n",
              "      <td>0.329977</td>\n",
              "      <td>-0.084717</td>\n",
              "      <td>0.833467</td>\n",
              "      <td>-0.391632</td>\n",
              "      <td>0.720240</td>\n",
              "      <td>0.644934</td>\n",
              "      <td>0.117012</td>\n",
              "      <td>-0.055227</td>\n",
              "      <td>0.264801</td>\n",
              "      <td>0.183924</td>\n",
              "      <td>-0.749754</td>\n",
              "      <td>-0.131973</td>\n",
              "      <td>1.542933</td>\n",
              "      <td>1.664716</td>\n",
              "      <td>1.564912</td>\n",
              "      <td>1.482653</td>\n",
              "      <td>2.009061</td>\n",
              "      <td>0.825932</td>\n",
              "      <td>1.454664</td>\n",
              "      <td>1.105356</td>\n",
              "      <td>0.577943</td>\n",
              "      <td>0.734491</td>\n",
              "    </tr>\n",
              "  </tbody>\n",
              "</table>\n",
              "<p>426 rows × 30 columns</p>\n",
              "</div>\n",
              "      <button class=\"colab-df-convert\" onclick=\"convertToInteractive('df-1ad0523b-8864-4e0b-923c-3c29304931d7')\"\n",
              "              title=\"Convert this dataframe to an interactive table.\"\n",
              "              style=\"display:none;\">\n",
              "        \n",
              "  <svg xmlns=\"http://www.w3.org/2000/svg\" height=\"24px\"viewBox=\"0 0 24 24\"\n",
              "       width=\"24px\">\n",
              "    <path d=\"M0 0h24v24H0V0z\" fill=\"none\"/>\n",
              "    <path d=\"M18.56 5.44l.94 2.06.94-2.06 2.06-.94-2.06-.94-.94-2.06-.94 2.06-2.06.94zm-11 1L8.5 8.5l.94-2.06 2.06-.94-2.06-.94L8.5 2.5l-.94 2.06-2.06.94zm10 10l.94 2.06.94-2.06 2.06-.94-2.06-.94-.94-2.06-.94 2.06-2.06.94z\"/><path d=\"M17.41 7.96l-1.37-1.37c-.4-.4-.92-.59-1.43-.59-.52 0-1.04.2-1.43.59L10.3 9.45l-7.72 7.72c-.78.78-.78 2.05 0 2.83L4 21.41c.39.39.9.59 1.41.59.51 0 1.02-.2 1.41-.59l7.78-7.78 2.81-2.81c.8-.78.8-2.07 0-2.86zM5.41 20L4 18.59l7.72-7.72 1.47 1.35L5.41 20z\"/>\n",
              "  </svg>\n",
              "      </button>\n",
              "      \n",
              "  <style>\n",
              "    .colab-df-container {\n",
              "      display:flex;\n",
              "      flex-wrap:wrap;\n",
              "      gap: 12px;\n",
              "    }\n",
              "\n",
              "    .colab-df-convert {\n",
              "      background-color: #E8F0FE;\n",
              "      border: none;\n",
              "      border-radius: 50%;\n",
              "      cursor: pointer;\n",
              "      display: none;\n",
              "      fill: #1967D2;\n",
              "      height: 32px;\n",
              "      padding: 0 0 0 0;\n",
              "      width: 32px;\n",
              "    }\n",
              "\n",
              "    .colab-df-convert:hover {\n",
              "      background-color: #E2EBFA;\n",
              "      box-shadow: 0px 1px 2px rgba(60, 64, 67, 0.3), 0px 1px 3px 1px rgba(60, 64, 67, 0.15);\n",
              "      fill: #174EA6;\n",
              "    }\n",
              "\n",
              "    [theme=dark] .colab-df-convert {\n",
              "      background-color: #3B4455;\n",
              "      fill: #D2E3FC;\n",
              "    }\n",
              "\n",
              "    [theme=dark] .colab-df-convert:hover {\n",
              "      background-color: #434B5C;\n",
              "      box-shadow: 0px 1px 3px 1px rgba(0, 0, 0, 0.15);\n",
              "      filter: drop-shadow(0px 1px 2px rgba(0, 0, 0, 0.3));\n",
              "      fill: #FFFFFF;\n",
              "    }\n",
              "  </style>\n",
              "\n",
              "      <script>\n",
              "        const buttonEl =\n",
              "          document.querySelector('#df-1ad0523b-8864-4e0b-923c-3c29304931d7 button.colab-df-convert');\n",
              "        buttonEl.style.display =\n",
              "          google.colab.kernel.accessAllowed ? 'block' : 'none';\n",
              "\n",
              "        async function convertToInteractive(key) {\n",
              "          const element = document.querySelector('#df-1ad0523b-8864-4e0b-923c-3c29304931d7');\n",
              "          const dataTable =\n",
              "            await google.colab.kernel.invokeFunction('convertToInteractive',\n",
              "                                                     [key], {});\n",
              "          if (!dataTable) return;\n",
              "\n",
              "          const docLinkHtml = 'Like what you see? Visit the ' +\n",
              "            '<a target=\"_blank\" href=https://colab.research.google.com/notebooks/data_table.ipynb>data table notebook</a>'\n",
              "            + ' to learn more about interactive tables.';\n",
              "          element.innerHTML = '';\n",
              "          dataTable['output_type'] = 'display_data';\n",
              "          await google.colab.output.renderOutput(dataTable, element);\n",
              "          const docLink = document.createElement('div');\n",
              "          docLink.innerHTML = docLinkHtml;\n",
              "          element.appendChild(docLink);\n",
              "        }\n",
              "      </script>\n",
              "    </div>\n",
              "  </div>\n",
              "  "
            ],
            "text/plain": [
              "           0         1         2   ...        27        28        29\n",
              "0   -1.488033 -1.082004 -1.366651  ... -1.016318 -1.046309  1.355149\n",
              "1    2.874993  0.211845  3.057588  ...  1.677876  0.519703 -0.213673\n",
              "2   -0.317327  0.681912 -0.410215  ... -1.604080 -0.979980 -1.413980\n",
              "3    0.869853  0.647006  0.808603  ...  1.275894  0.509996 -0.456949\n",
              "4    0.872693  1.217138  0.915698  ...  1.146468  0.666921  2.768252\n",
              "..        ...       ...       ...  ...       ...       ...       ...\n",
              "421  0.580158 -0.749234  0.590295  ...  0.159785  0.408076  0.313331\n",
              "422 -0.675185  0.207191 -0.653649  ... -0.540791  0.432343 -0.225865\n",
              "423  0.892574  1.426574  0.841556  ...  0.902842 -0.648335 -0.249694\n",
              "424  0.455192 -1.863899  0.446130  ...  0.465839 -0.556121 -0.118358\n",
              "425  1.429361  1.701168  1.409980  ...  1.105356  0.577943  0.734491\n",
              "\n",
              "[426 rows x 30 columns]"
            ]
          },
          "metadata": {},
          "execution_count": 17
        }
      ]
    },
    {
      "cell_type": "markdown",
      "source": [
        "# **Machine Learning Models**"
      ],
      "metadata": {
        "id": "NSML49kdSF49"
      }
    },
    {
      "cell_type": "markdown",
      "source": [
        "**Logistic Regression Algorithm**"
      ],
      "metadata": {
        "id": "XSgdUW90ScGA"
      }
    },
    {
      "cell_type": "code",
      "source": [
        "#Using Logistic Regression Algorithm \n",
        "from sklearn.linear_model import LogisticRegression\n",
        "classifier = LogisticRegression(random_state = 0)\n",
        "classifier.fit(x_train, y_train)\n",
        "Y_pred = classifier.predict(x_test)\n",
        "cm = confusion_matrix(y_test, Y_pred)\n",
        "sns.heatmap(cm,annot=True)\n",
        "print('Accuracy score using Logistic Regression :',accuracy_score(y_test, Y_pred))"
      ],
      "metadata": {
        "colab": {
          "base_uri": "https://localhost:8080/",
          "height": 304
        },
        "id": "qwPWQImpSJiB",
        "outputId": "3026f797-b46d-4eca-f98f-c36a04a12e51"
      },
      "execution_count": null,
      "outputs": [
        {
          "output_type": "stream",
          "name": "stdout",
          "text": [
            "Accuracy score using Logistic Regression : 0.986013986013986\n"
          ]
        },
        {
          "output_type": "display_data",
          "data": {
            "image/png": "[encoded data removed]",
            "text/plain": [
              "<Figure size 432x288 with 2 Axes>"
            ]
          },
          "metadata": {
            "needs_background": "light"
          }
        }
      ]
    },
    {
      "cell_type": "markdown",
      "source": [
        "KNeighborsClassifier Method"
      ],
      "metadata": {
        "id": "TNynxLttUqp9"
      }
    },
    {
      "cell_type": "code",
      "source": [
        "from sklearn.neighbors import KNeighborsClassifier\n",
        "classifier = KNeighborsClassifier(n_neighbors = 5, metric = 'minkowski', p = 2)\n",
        "classifier.fit(x_train, y_train)\n",
        "Y_pred = classifier.predict(x_test)\n",
        "cm = confusion_matrix(y_test, Y_pred)\n",
        "sns.heatmap(cm,annot=True)\n",
        "print('Accuracy score using KNeighborsClassifier Method :',accuracy_score(y_test, Y_pred))"
      ],
      "metadata": {
        "colab": {
          "base_uri": "https://localhost:8080/",
          "height": 302
        },
        "id": "wJiMHgdSUcyn",
        "outputId": "e68503db-124a-4bf6-a5ab-dea1296961de"
      },
      "execution_count": null,
      "outputs": [
        {
          "output_type": "stream",
          "name": "stdout",
          "text": [
            "Accuracy score using KNeighborsClassifier Method : 0.9790209790209791\n"
          ]
        },
        {
          "output_type": "display_data",
          "data": {
            "image/png": "[encoded data removed]",
            "text/plain": [
              "<Figure size 432x288 with 2 Axes>"
            ]
          },
          "metadata": {
            "needs_background": "light"
          }
        }
      ]
    },
    {
      "cell_type": "markdown",
      "source": [
        "**Support Vector Machine Algorithm**"
      ],
      "metadata": {
        "id": "zahyIFDBU-4r"
      }
    },
    {
      "cell_type": "code",
      "source": [
        "from sklearn.svm import SVC\n",
        "classifier = SVC(kernel = 'linear', random_state = 0)\n",
        "classifier.fit(x_train, y_train)\n",
        "Y_pred = classifier.predict(x_test)\n",
        "cm = confusion_matrix(y_test, Y_pred)\n",
        "sns.heatmap(cm,annot=True)\n",
        "print('Accuracy score using Support Vector Machine Algorithm :',accuracy_score(y_test, Y_pred))"
      ],
      "metadata": {
        "colab": {
          "base_uri": "https://localhost:8080/",
          "height": 306
        },
        "id": "Hi69XDiMVG6M",
        "outputId": "a1a7bc89-5b2c-4644-a007-796f6bef5fdf"
      },
      "execution_count": null,
      "outputs": [
        {
          "output_type": "stream",
          "name": "stdout",
          "text": [
            "Accuracy score using Support Vector Machine Algorithm : 0.9790209790209791\n"
          ]
        },
        {
          "output_type": "display_data",
          "data": {
            "image/png": "[encoded data removed]",
            "text/plain": [
              "<Figure size 432x288 with 2 Axes>"
            ]
          },
          "metadata": {
            "needs_background": "light"
          }
        }
      ]
    },
    {
      "cell_type": "markdown",
      "source": [
        "**Kernel SVM Algorithm**"
      ],
      "metadata": {
        "id": "cMomfrpMVVuA"
      }
    },
    {
      "cell_type": "code",
      "source": [
        "from sklearn.svm import SVC\n",
        "classifier = SVC(kernel = 'rbf', random_state = 0)\n",
        "classifier.fit(x_train, y_train)\n",
        "Y_pred = classifier.predict(x_test)\n",
        "cm = confusion_matrix(y_test, Y_pred)\n",
        "sns.heatmap(cm,annot=True)\n",
        "print('Accuracy score using Kernel SVM Algorithm :',accuracy_score(y_test, Y_pred))"
      ],
      "metadata": {
        "colab": {
          "base_uri": "https://localhost:8080/",
          "height": 304
        },
        "id": "dEcKBui4VbHH",
        "outputId": "58d9bbe7-2920-45c6-bb26-829fa9b2f325"
      },
      "execution_count": null,
      "outputs": [
        {
          "output_type": "stream",
          "name": "stdout",
          "text": [
            "Accuracy score using Kernel SVM Algorithm : 0.9790209790209791\n"
          ]
        },
        {
          "output_type": "display_data",
          "data": {
            "image/png": "[encoded data removed]",
            "text/plain": [
              "<Figure size 432x288 with 2 Axes>"
            ]
          },
          "metadata": {
            "needs_background": "light"
          }
        }
      ]
    },
    {
      "cell_type": "markdown",
      "source": [
        "**Naïve Bayes Algorithm**"
      ],
      "metadata": {
        "id": "VIPRCwhgVoB4"
      }
    },
    {
      "cell_type": "code",
      "source": [
        "from sklearn.naive_bayes import GaussianNB\n",
        "classifier = GaussianNB()\n",
        "classifier.fit(x_train, y_train)\n",
        "Y_pred = classifier.predict(x_test)\n",
        "cm = confusion_matrix(y_test, Y_pred)\n",
        "sns.heatmap(cm,annot=True)\n",
        "print('Accuracy score using Naïve Bayes Algorithm :',accuracy_score(y_test, Y_pred))"
      ],
      "metadata": {
        "colab": {
          "base_uri": "https://localhost:8080/",
          "height": 302
        },
        "id": "dZBSKvYNVjkF",
        "outputId": "1320856d-5c05-4162-b279-7d0f60d55570"
      },
      "execution_count": null,
      "outputs": [
        {
          "output_type": "stream",
          "name": "stdout",
          "text": [
            "Accuracy score using Naïve Bayes Algorithm : 0.9230769230769231\n"
          ]
        },
        {
          "output_type": "display_data",
          "data": {
            "image/png": "[encoded data removed]",
            "text/plain": [
              "<Figure size 432x288 with 2 Axes>"
            ]
          },
          "metadata": {
            "needs_background": "light"
          }
        }
      ]
    },
    {
      "cell_type": "markdown",
      "source": [
        "**DecisionTreeClassifier**"
      ],
      "metadata": {
        "id": "V-ojf4HzV0QQ"
      }
    },
    {
      "cell_type": "code",
      "source": [
        "from sklearn.tree import DecisionTreeClassifier\n",
        "classifier = DecisionTreeClassifier(criterion = 'entropy', random_state = 0)\n",
        "classifier.fit(x_train, y_train)\n",
        "Y_pred = classifier.predict(x_test)\n",
        "cm = confusion_matrix(y_test, Y_pred)\n",
        "sns.heatmap(cm,annot=True)\n",
        "print('Accuracy score using DecisionTreeClassifier :',accuracy_score(y_test, Y_pred))"
      ],
      "metadata": {
        "colab": {
          "base_uri": "https://localhost:8080/",
          "height": 302
        },
        "id": "IZUVWllIV_Zx",
        "outputId": "242aea81-4258-4429-e62e-33a494e2ac2d"
      },
      "execution_count": null,
      "outputs": [
        {
          "output_type": "stream",
          "name": "stdout",
          "text": [
            "Accuracy score using DecisionTreeClassifier : 0.9090909090909091\n"
          ]
        },
        {
          "output_type": "display_data",
          "data": {
            "image/png": "[encoded data removed]",
            "text/plain": [
              "<Figure size 432x288 with 2 Axes>"
            ]
          },
          "metadata": {
            "needs_background": "light"
          }
        }
      ]
    },
    {
      "cell_type": "markdown",
      "source": [
        "**RandomForestClassifier**"
      ],
      "metadata": {
        "id": "Yy-I1mcEWIL0"
      }
    },
    {
      "cell_type": "code",
      "source": [
        "from sklearn.ensemble import RandomForestClassifier\n",
        "classifier = RandomForestClassifier(n_estimators = 10, criterion = 'entropy', random_state = 0)\n",
        "classifier.fit(x_train, y_train)\n",
        "Y_pred = classifier.predict(x_test)\n",
        "cm = confusion_matrix(y_test, Y_pred)\n",
        "sns.heatmap(cm,annot=True)\n",
        "print('Accuracy score using RandomForestClassifier :',accuracy_score(y_test, Y_pred))"
      ],
      "metadata": {
        "colab": {
          "base_uri": "https://localhost:8080/",
          "height": 304
        },
        "id": "ixf_8EYtVwu9",
        "outputId": "7f2c11f8-b631-4151-8937-ee703931d4dd"
      },
      "execution_count": null,
      "outputs": [
        {
          "output_type": "stream",
          "name": "stdout",
          "text": [
            "Accuracy score using RandomForestClassifier : 0.972027972027972\n"
          ]
        },
        {
          "output_type": "display_data",
          "data": {
            "image/png": "[encoded data removed]",
            "text/plain": [
              "<Figure size 432x288 with 2 Axes>"
            ]
          },
          "metadata": {
            "needs_background": "light"
          }
        }
      ]
    },
    {
      "cell_type": "markdown",
      "source": [
        "# **Deep Learning**"
      ],
      "metadata": {
        "id": "3A7KA7UaWmY9"
      }
    },
    {
      "cell_type": "code",
      "source": [
        "import tensorflow as tf\n",
        "from keras.models import Sequential \n",
        "from keras.layers import Dense,Activation,Dropout\n"
      ],
      "metadata": {
        "id": "6JsLZJj8ZEV1"
      },
      "execution_count": null,
      "outputs": []
    },
    {
      "cell_type": "code",
      "source": [
        "model = Sequential()\n",
        "model.add(Dense(16,input_dim=30,activation='relu'))\n",
        "model.add(Dropout(0.2))\n",
        "model.add(Dense(32,activation='relu'))\n",
        "model.add(Dropout(0.2))\n",
        "model.add(Dense(1,activation='sigmoid'))\n",
        "model.compile(loss='binary_crossentropy',optimizer = 'adam',metrics = ['accuracy'])\n",
        "print(model.summary())"
      ],
      "metadata": {
        "colab": {
          "base_uri": "https://localhost:8080/"
        },
        "id": "AZqm3OOvZPlE",
        "outputId": "407f5e05-4972-4461-eb4e-3ff5a97d29b9"
      },
      "execution_count": null,
      "outputs": [
        {
          "output_type": "stream",
          "name": "stdout",
          "text": [
            "Model: \"sequential\"\n",
            "_________________________________________________________________\n",
            " Layer (type)                Output Shape              Param #   \n",
            "=================================================================\n",
            " dense (Dense)               (None, 16)                496       \n",
            "                                                                 \n",
            " dropout (Dropout)           (None, 16)                0         \n",
            "                                                                 \n",
            " dense_1 (Dense)             (None, 32)                544       \n",
            "                                                                 \n",
            " dropout_1 (Dropout)         (None, 32)                0         \n",
            "                                                                 \n",
            " dense_2 (Dense)             (None, 1)                 33        \n",
            "                                                                 \n",
            "=================================================================\n",
            "Total params: 1,073\n",
            "Trainable params: 1,073\n",
            "Non-trainable params: 0\n",
            "_________________________________________________________________\n",
            "None\n"
          ]
        }
      ]
    },
    {
      "cell_type": "code",
      "source": [
        "history = model.fit(x_train,y_train,validation_data=(x_test,y_test),verbose = 2,epochs = 100,batch_size = 64)"
      ],
      "metadata": {
        "colab": {
          "base_uri": "https://localhost:8080/"
        },
        "id": "YmhjSq2waghS",
        "outputId": "52021cf8-1691-4f3b-a0d6-b26fb1718074"
      },
      "execution_count": null,
      "outputs": [
        {
          "output_type": "stream",
          "name": "stdout",
          "text": [
            "Epoch 1/100\n",
            "7/7 - 3s - loss: 0.6408 - accuracy: 0.6033 - val_loss: 0.5849 - val_accuracy: 0.7273 - 3s/epoch - 402ms/step\n",
            "Epoch 2/100\n",
            "7/7 - 0s - loss: 0.5880 - accuracy: 0.6831 - val_loss: 0.5222 - val_accuracy: 0.8322 - 38ms/epoch - 5ms/step\n",
            "Epoch 3/100\n",
            "7/7 - 0s - loss: 0.5187 - accuracy: 0.8122 - val_loss: 0.4661 - val_accuracy: 0.9231 - 36ms/epoch - 5ms/step\n",
            "Epoch 4/100\n",
            "7/7 - 0s - loss: 0.4565 - accuracy: 0.8685 - val_loss: 0.4149 - val_accuracy: 0.9441 - 35ms/epoch - 5ms/step\n",
            "Epoch 5/100\n",
            "7/7 - 0s - loss: 0.4161 - accuracy: 0.9085 - val_loss: 0.3671 - val_accuracy: 0.9650 - 35ms/epoch - 5ms/step\n",
            "Epoch 6/100\n",
            "7/7 - 0s - loss: 0.3807 - accuracy: 0.9038 - val_loss: 0.3228 - val_accuracy: 0.9720 - 36ms/epoch - 5ms/step\n",
            "Epoch 7/100\n",
            "7/7 - 0s - loss: 0.3139 - accuracy: 0.9366 - val_loss: 0.2827 - val_accuracy: 0.9720 - 39ms/epoch - 6ms/step\n",
            "Epoch 8/100\n",
            "7/7 - 0s - loss: 0.2864 - accuracy: 0.9460 - val_loss: 0.2479 - val_accuracy: 0.9720 - 43ms/epoch - 6ms/step\n",
            "Epoch 9/100\n",
            "7/7 - 0s - loss: 0.2609 - accuracy: 0.9413 - val_loss: 0.2183 - val_accuracy: 0.9720 - 38ms/epoch - 5ms/step\n",
            "Epoch 10/100\n",
            "7/7 - 0s - loss: 0.2407 - accuracy: 0.9437 - val_loss: 0.1937 - val_accuracy: 0.9720 - 37ms/epoch - 5ms/step\n",
            "Epoch 11/100\n",
            "7/7 - 0s - loss: 0.2094 - accuracy: 0.9531 - val_loss: 0.1736 - val_accuracy: 0.9720 - 37ms/epoch - 5ms/step\n",
            "Epoch 12/100\n",
            "7/7 - 0s - loss: 0.1919 - accuracy: 0.9601 - val_loss: 0.1572 - val_accuracy: 0.9720 - 37ms/epoch - 5ms/step\n",
            "Epoch 13/100\n",
            "7/7 - 0s - loss: 0.1690 - accuracy: 0.9601 - val_loss: 0.1439 - val_accuracy: 0.9720 - 37ms/epoch - 5ms/step\n",
            "Epoch 14/100\n",
            "7/7 - 0s - loss: 0.1694 - accuracy: 0.9460 - val_loss: 0.1331 - val_accuracy: 0.9720 - 37ms/epoch - 5ms/step\n",
            "Epoch 15/100\n",
            "7/7 - 0s - loss: 0.1571 - accuracy: 0.9554 - val_loss: 0.1241 - val_accuracy: 0.9790 - 37ms/epoch - 5ms/step\n",
            "Epoch 16/100\n",
            "7/7 - 0s - loss: 0.1400 - accuracy: 0.9648 - val_loss: 0.1168 - val_accuracy: 0.9790 - 38ms/epoch - 5ms/step\n",
            "Epoch 17/100\n",
            "7/7 - 0s - loss: 0.1264 - accuracy: 0.9671 - val_loss: 0.1106 - val_accuracy: 0.9790 - 37ms/epoch - 5ms/step\n",
            "Epoch 18/100\n",
            "7/7 - 0s - loss: 0.1160 - accuracy: 0.9718 - val_loss: 0.1054 - val_accuracy: 0.9790 - 37ms/epoch - 5ms/step\n",
            "Epoch 19/100\n",
            "7/7 - 0s - loss: 0.1157 - accuracy: 0.9648 - val_loss: 0.1010 - val_accuracy: 0.9790 - 47ms/epoch - 7ms/step\n",
            "Epoch 20/100\n",
            "7/7 - 0s - loss: 0.1150 - accuracy: 0.9624 - val_loss: 0.0967 - val_accuracy: 0.9790 - 36ms/epoch - 5ms/step\n",
            "Epoch 21/100\n",
            "7/7 - 0s - loss: 0.0976 - accuracy: 0.9695 - val_loss: 0.0932 - val_accuracy: 0.9790 - 38ms/epoch - 5ms/step\n",
            "Epoch 22/100\n",
            "7/7 - 0s - loss: 0.0879 - accuracy: 0.9836 - val_loss: 0.0902 - val_accuracy: 0.9790 - 39ms/epoch - 6ms/step\n",
            "Epoch 23/100\n",
            "7/7 - 0s - loss: 0.1052 - accuracy: 0.9671 - val_loss: 0.0876 - val_accuracy: 0.9790 - 39ms/epoch - 6ms/step\n",
            "Epoch 24/100\n",
            "7/7 - 0s - loss: 0.0940 - accuracy: 0.9742 - val_loss: 0.0857 - val_accuracy: 0.9790 - 38ms/epoch - 5ms/step\n",
            "Epoch 25/100\n",
            "7/7 - 0s - loss: 0.0838 - accuracy: 0.9789 - val_loss: 0.0838 - val_accuracy: 0.9790 - 38ms/epoch - 5ms/step\n",
            "Epoch 26/100\n",
            "7/7 - 0s - loss: 0.0874 - accuracy: 0.9718 - val_loss: 0.0823 - val_accuracy: 0.9790 - 37ms/epoch - 5ms/step\n",
            "Epoch 27/100\n",
            "7/7 - 0s - loss: 0.0904 - accuracy: 0.9718 - val_loss: 0.0808 - val_accuracy: 0.9790 - 41ms/epoch - 6ms/step\n",
            "Epoch 28/100\n",
            "7/7 - 0s - loss: 0.0856 - accuracy: 0.9765 - val_loss: 0.0795 - val_accuracy: 0.9790 - 38ms/epoch - 5ms/step\n",
            "Epoch 29/100\n",
            "7/7 - 0s - loss: 0.0723 - accuracy: 0.9765 - val_loss: 0.0784 - val_accuracy: 0.9790 - 36ms/epoch - 5ms/step\n",
            "Epoch 30/100\n",
            "7/7 - 0s - loss: 0.0762 - accuracy: 0.9836 - val_loss: 0.0775 - val_accuracy: 0.9720 - 36ms/epoch - 5ms/step\n",
            "Epoch 31/100\n",
            "7/7 - 0s - loss: 0.0694 - accuracy: 0.9789 - val_loss: 0.0765 - val_accuracy: 0.9720 - 37ms/epoch - 5ms/step\n",
            "Epoch 32/100\n",
            "7/7 - 0s - loss: 0.0707 - accuracy: 0.9906 - val_loss: 0.0756 - val_accuracy: 0.9720 - 38ms/epoch - 5ms/step\n",
            "Epoch 33/100\n",
            "7/7 - 0s - loss: 0.0732 - accuracy: 0.9812 - val_loss: 0.0746 - val_accuracy: 0.9720 - 39ms/epoch - 6ms/step\n",
            "Epoch 34/100\n",
            "7/7 - 0s - loss: 0.0690 - accuracy: 0.9812 - val_loss: 0.0739 - val_accuracy: 0.9720 - 37ms/epoch - 5ms/step\n",
            "Epoch 35/100\n",
            "7/7 - 0s - loss: 0.0679 - accuracy: 0.9859 - val_loss: 0.0732 - val_accuracy: 0.9720 - 38ms/epoch - 5ms/step\n",
            "Epoch 36/100\n",
            "7/7 - 0s - loss: 0.0824 - accuracy: 0.9718 - val_loss: 0.0728 - val_accuracy: 0.9720 - 37ms/epoch - 5ms/step\n",
            "Epoch 37/100\n",
            "7/7 - 0s - loss: 0.0620 - accuracy: 0.9836 - val_loss: 0.0723 - val_accuracy: 0.9720 - 41ms/epoch - 6ms/step\n",
            "Epoch 38/100\n",
            "7/7 - 0s - loss: 0.0599 - accuracy: 0.9812 - val_loss: 0.0718 - val_accuracy: 0.9720 - 39ms/epoch - 6ms/step\n",
            "Epoch 39/100\n",
            "7/7 - 0s - loss: 0.0709 - accuracy: 0.9812 - val_loss: 0.0716 - val_accuracy: 0.9720 - 38ms/epoch - 5ms/step\n",
            "Epoch 40/100\n",
            "7/7 - 0s - loss: 0.0660 - accuracy: 0.9765 - val_loss: 0.0712 - val_accuracy: 0.9720 - 37ms/epoch - 5ms/step\n",
            "Epoch 41/100\n",
            "7/7 - 0s - loss: 0.0618 - accuracy: 0.9789 - val_loss: 0.0707 - val_accuracy: 0.9720 - 37ms/epoch - 5ms/step\n",
            "Epoch 42/100\n",
            "7/7 - 0s - loss: 0.0636 - accuracy: 0.9742 - val_loss: 0.0703 - val_accuracy: 0.9720 - 37ms/epoch - 5ms/step\n",
            "Epoch 43/100\n",
            "7/7 - 0s - loss: 0.0532 - accuracy: 0.9836 - val_loss: 0.0699 - val_accuracy: 0.9720 - 46ms/epoch - 7ms/step\n",
            "Epoch 44/100\n",
            "7/7 - 0s - loss: 0.0580 - accuracy: 0.9836 - val_loss: 0.0695 - val_accuracy: 0.9720 - 37ms/epoch - 5ms/step\n",
            "Epoch 45/100\n",
            "7/7 - 0s - loss: 0.0677 - accuracy: 0.9765 - val_loss: 0.0692 - val_accuracy: 0.9720 - 37ms/epoch - 5ms/step\n",
            "Epoch 46/100\n",
            "7/7 - 0s - loss: 0.0566 - accuracy: 0.9789 - val_loss: 0.0688 - val_accuracy: 0.9720 - 38ms/epoch - 5ms/step\n",
            "Epoch 47/100\n",
            "7/7 - 0s - loss: 0.0578 - accuracy: 0.9789 - val_loss: 0.0682 - val_accuracy: 0.9720 - 37ms/epoch - 5ms/step\n",
            "Epoch 48/100\n",
            "7/7 - 0s - loss: 0.0539 - accuracy: 0.9859 - val_loss: 0.0677 - val_accuracy: 0.9720 - 42ms/epoch - 6ms/step\n",
            "Epoch 49/100\n",
            "7/7 - 0s - loss: 0.0518 - accuracy: 0.9836 - val_loss: 0.0674 - val_accuracy: 0.9720 - 41ms/epoch - 6ms/step\n",
            "Epoch 50/100\n",
            "7/7 - 0s - loss: 0.0494 - accuracy: 0.9812 - val_loss: 0.0670 - val_accuracy: 0.9720 - 38ms/epoch - 5ms/step\n",
            "Epoch 51/100\n",
            "7/7 - 0s - loss: 0.0590 - accuracy: 0.9836 - val_loss: 0.0667 - val_accuracy: 0.9720 - 38ms/epoch - 5ms/step\n",
            "Epoch 52/100\n",
            "7/7 - 0s - loss: 0.0491 - accuracy: 0.9836 - val_loss: 0.0659 - val_accuracy: 0.9720 - 39ms/epoch - 6ms/step\n",
            "Epoch 53/100\n",
            "7/7 - 0s - loss: 0.0540 - accuracy: 0.9812 - val_loss: 0.0654 - val_accuracy: 0.9720 - 36ms/epoch - 5ms/step\n",
            "Epoch 54/100\n",
            "7/7 - 0s - loss: 0.0458 - accuracy: 0.9812 - val_loss: 0.0650 - val_accuracy: 0.9720 - 37ms/epoch - 5ms/step\n",
            "Epoch 55/100\n",
            "7/7 - 0s - loss: 0.0571 - accuracy: 0.9789 - val_loss: 0.0645 - val_accuracy: 0.9720 - 39ms/epoch - 6ms/step\n",
            "Epoch 56/100\n",
            "7/7 - 0s - loss: 0.0519 - accuracy: 0.9765 - val_loss: 0.0643 - val_accuracy: 0.9790 - 40ms/epoch - 6ms/step\n",
            "Epoch 57/100\n",
            "7/7 - 0s - loss: 0.0497 - accuracy: 0.9836 - val_loss: 0.0643 - val_accuracy: 0.9790 - 37ms/epoch - 5ms/step\n",
            "Epoch 58/100\n",
            "7/7 - 0s - loss: 0.0537 - accuracy: 0.9789 - val_loss: 0.0643 - val_accuracy: 0.9790 - 38ms/epoch - 5ms/step\n",
            "Epoch 59/100\n",
            "7/7 - 0s - loss: 0.0455 - accuracy: 0.9883 - val_loss: 0.0642 - val_accuracy: 0.9790 - 40ms/epoch - 6ms/step\n",
            "Epoch 60/100\n",
            "7/7 - 0s - loss: 0.0491 - accuracy: 0.9859 - val_loss: 0.0640 - val_accuracy: 0.9790 - 38ms/epoch - 5ms/step\n",
            "Epoch 61/100\n",
            "7/7 - 0s - loss: 0.0376 - accuracy: 0.9859 - val_loss: 0.0639 - val_accuracy: 0.9790 - 37ms/epoch - 5ms/step\n",
            "Epoch 62/100\n",
            "7/7 - 0s - loss: 0.0495 - accuracy: 0.9836 - val_loss: 0.0641 - val_accuracy: 0.9790 - 38ms/epoch - 5ms/step\n",
            "Epoch 63/100\n",
            "7/7 - 0s - loss: 0.0347 - accuracy: 0.9859 - val_loss: 0.0643 - val_accuracy: 0.9790 - 37ms/epoch - 5ms/step\n",
            "Epoch 64/100\n",
            "7/7 - 0s - loss: 0.0485 - accuracy: 0.9836 - val_loss: 0.0650 - val_accuracy: 0.9790 - 39ms/epoch - 6ms/step\n",
            "Epoch 65/100\n",
            "7/7 - 0s - loss: 0.0501 - accuracy: 0.9883 - val_loss: 0.0650 - val_accuracy: 0.9790 - 42ms/epoch - 6ms/step\n",
            "Epoch 66/100\n",
            "7/7 - 0s - loss: 0.0365 - accuracy: 0.9859 - val_loss: 0.0648 - val_accuracy: 0.9790 - 37ms/epoch - 5ms/step\n",
            "Epoch 67/100\n",
            "7/7 - 0s - loss: 0.0388 - accuracy: 0.9812 - val_loss: 0.0647 - val_accuracy: 0.9790 - 45ms/epoch - 6ms/step\n",
            "Epoch 68/100\n",
            "7/7 - 0s - loss: 0.0443 - accuracy: 0.9836 - val_loss: 0.0653 - val_accuracy: 0.9790 - 36ms/epoch - 5ms/step\n",
            "Epoch 69/100\n",
            "7/7 - 0s - loss: 0.0422 - accuracy: 0.9859 - val_loss: 0.0656 - val_accuracy: 0.9790 - 36ms/epoch - 5ms/step\n",
            "Epoch 70/100\n",
            "7/7 - 0s - loss: 0.0403 - accuracy: 0.9836 - val_loss: 0.0655 - val_accuracy: 0.9790 - 37ms/epoch - 5ms/step\n",
            "Epoch 71/100\n",
            "7/7 - 0s - loss: 0.0430 - accuracy: 0.9859 - val_loss: 0.0649 - val_accuracy: 0.9790 - 54ms/epoch - 8ms/step\n",
            "Epoch 72/100\n",
            "7/7 - 0s - loss: 0.0613 - accuracy: 0.9742 - val_loss: 0.0635 - val_accuracy: 0.9790 - 38ms/epoch - 5ms/step\n",
            "Epoch 73/100\n",
            "7/7 - 0s - loss: 0.0381 - accuracy: 0.9859 - val_loss: 0.0631 - val_accuracy: 0.9790 - 38ms/epoch - 5ms/step\n",
            "Epoch 74/100\n",
            "7/7 - 0s - loss: 0.0364 - accuracy: 0.9906 - val_loss: 0.0630 - val_accuracy: 0.9790 - 38ms/epoch - 5ms/step\n",
            "Epoch 75/100\n",
            "7/7 - 0s - loss: 0.0416 - accuracy: 0.9836 - val_loss: 0.0627 - val_accuracy: 0.9790 - 39ms/epoch - 6ms/step\n",
            "Epoch 76/100\n",
            "7/7 - 0s - loss: 0.0397 - accuracy: 0.9883 - val_loss: 0.0631 - val_accuracy: 0.9790 - 38ms/epoch - 5ms/step\n",
            "Epoch 77/100\n",
            "7/7 - 0s - loss: 0.0320 - accuracy: 0.9906 - val_loss: 0.0640 - val_accuracy: 0.9790 - 37ms/epoch - 5ms/step\n",
            "Epoch 78/100\n",
            "7/7 - 0s - loss: 0.0333 - accuracy: 0.9859 - val_loss: 0.0642 - val_accuracy: 0.9790 - 37ms/epoch - 5ms/step\n",
            "Epoch 79/100\n",
            "7/7 - 0s - loss: 0.0354 - accuracy: 0.9930 - val_loss: 0.0642 - val_accuracy: 0.9790 - 39ms/epoch - 6ms/step\n",
            "Epoch 80/100\n",
            "7/7 - 0s - loss: 0.0305 - accuracy: 0.9883 - val_loss: 0.0638 - val_accuracy: 0.9790 - 37ms/epoch - 5ms/step\n",
            "Epoch 81/100\n",
            "7/7 - 0s - loss: 0.0417 - accuracy: 0.9859 - val_loss: 0.0639 - val_accuracy: 0.9790 - 38ms/epoch - 5ms/step\n",
            "Epoch 82/100\n",
            "7/7 - 0s - loss: 0.0504 - accuracy: 0.9812 - val_loss: 0.0636 - val_accuracy: 0.9790 - 41ms/epoch - 6ms/step\n",
            "Epoch 83/100\n",
            "7/7 - 0s - loss: 0.0370 - accuracy: 0.9836 - val_loss: 0.0632 - val_accuracy: 0.9790 - 39ms/epoch - 6ms/step\n",
            "Epoch 84/100\n",
            "7/7 - 0s - loss: 0.0334 - accuracy: 0.9883 - val_loss: 0.0630 - val_accuracy: 0.9790 - 38ms/epoch - 5ms/step\n",
            "Epoch 85/100\n",
            "7/7 - 0s - loss: 0.0322 - accuracy: 0.9883 - val_loss: 0.0626 - val_accuracy: 0.9790 - 38ms/epoch - 5ms/step\n",
            "Epoch 86/100\n",
            "7/7 - 0s - loss: 0.0360 - accuracy: 0.9906 - val_loss: 0.0621 - val_accuracy: 0.9790 - 39ms/epoch - 6ms/step\n",
            "Epoch 87/100\n",
            "7/7 - 0s - loss: 0.0335 - accuracy: 0.9906 - val_loss: 0.0617 - val_accuracy: 0.9790 - 39ms/epoch - 6ms/step\n",
            "Epoch 88/100\n",
            "7/7 - 0s - loss: 0.0318 - accuracy: 0.9930 - val_loss: 0.0615 - val_accuracy: 0.9790 - 38ms/epoch - 5ms/step\n",
            "Epoch 89/100\n",
            "7/7 - 0s - loss: 0.0303 - accuracy: 0.9883 - val_loss: 0.0612 - val_accuracy: 0.9790 - 37ms/epoch - 5ms/step\n",
            "Epoch 90/100\n",
            "7/7 - 0s - loss: 0.0332 - accuracy: 0.9906 - val_loss: 0.0620 - val_accuracy: 0.9790 - 37ms/epoch - 5ms/step\n",
            "Epoch 91/100\n",
            "7/7 - 0s - loss: 0.0322 - accuracy: 0.9930 - val_loss: 0.0625 - val_accuracy: 0.9790 - 47ms/epoch - 7ms/step\n",
            "Epoch 92/100\n",
            "7/7 - 0s - loss: 0.0306 - accuracy: 0.9930 - val_loss: 0.0627 - val_accuracy: 0.9790 - 39ms/epoch - 6ms/step\n",
            "Epoch 93/100\n",
            "7/7 - 0s - loss: 0.0347 - accuracy: 0.9859 - val_loss: 0.0629 - val_accuracy: 0.9790 - 37ms/epoch - 5ms/step\n",
            "Epoch 94/100\n",
            "7/7 - 0s - loss: 0.0406 - accuracy: 0.9812 - val_loss: 0.0630 - val_accuracy: 0.9790 - 42ms/epoch - 6ms/step\n",
            "Epoch 95/100\n",
            "7/7 - 0s - loss: 0.0385 - accuracy: 0.9906 - val_loss: 0.0632 - val_accuracy: 0.9790 - 37ms/epoch - 5ms/step\n",
            "Epoch 96/100\n",
            "7/7 - 0s - loss: 0.0325 - accuracy: 0.9859 - val_loss: 0.0630 - val_accuracy: 0.9790 - 40ms/epoch - 6ms/step\n",
            "Epoch 97/100\n",
            "7/7 - 0s - loss: 0.0294 - accuracy: 0.9859 - val_loss: 0.0632 - val_accuracy: 0.9790 - 38ms/epoch - 5ms/step\n",
            "Epoch 98/100\n",
            "7/7 - 0s - loss: 0.0301 - accuracy: 0.9883 - val_loss: 0.0635 - val_accuracy: 0.9790 - 41ms/epoch - 6ms/step\n",
            "Epoch 99/100\n",
            "7/7 - 0s - loss: 0.0329 - accuracy: 0.9859 - val_loss: 0.0636 - val_accuracy: 0.9790 - 39ms/epoch - 6ms/step\n",
            "Epoch 100/100\n",
            "7/7 - 0s - loss: 0.0479 - accuracy: 0.9859 - val_loss: 0.0630 - val_accuracy: 0.9790 - 37ms/epoch - 5ms/step\n"
          ]
        }
      ]
    },
    {
      "cell_type": "code",
      "source": [
        "plt.plot(history.history['accuracy'])"
      ],
      "metadata": {
        "colab": {
          "base_uri": "https://localhost:8080/",
          "height": 302
        },
        "id": "nTCT_FZIa_xu",
        "outputId": "84c261d3-8fbb-4142-c5de-f39e9c45015e"
      },
      "execution_count": null,
      "outputs": [
        {
          "output_type": "execute_result",
          "data": {
            "text/plain": [
              "[<matplotlib.lines.Line2D at 0x7fccb8fb4390>]"
            ]
          },
          "metadata": {},
          "execution_count": 42
        },
        {
          "output_type": "display_data",
          "data": {
            "image/png": "[encoded data removed]",
            "text/plain": [
              "<Figure size 432x288 with 1 Axes>"
            ]
          },
          "metadata": {
            "needs_background": "light"
          }
        }
      ]
    },
    {
      "cell_type": "code",
      "source": [
        "plt.plot(history.history['loss'])"
      ],
      "metadata": {
        "colab": {
          "base_uri": "https://localhost:8080/",
          "height": 302
        },
        "id": "O2k58Z1udRBz",
        "outputId": "3ceafe09-9157-4127-e570-22a658330364"
      },
      "execution_count": null,
      "outputs": [
        {
          "output_type": "execute_result",
          "data": {
            "text/plain": [
              "[<matplotlib.lines.Line2D at 0x7fccb93c3c90>]"
            ]
          },
          "metadata": {},
          "execution_count": 43
        },
        {
          "output_type": "display_data",
          "data": {
            "image/png": "[encoded data removed]",
            "text/plain": [
              "<Figure size 432x288 with 1 Axes>"
            ]
          },
          "metadata": {
            "needs_background": "light"
          }
        }
      ]
    },
    {
      "cell_type": "code",
      "source": [
        "plt.plot(history.history['val_accuracy'])"
      ],
      "metadata": {
        "colab": {
          "base_uri": "https://localhost:8080/",
          "height": 302
        },
        "id": "cdqY6jcmdZS2",
        "outputId": "46468da5-308b-439c-f0ec-7540ea8711ab"
      },
      "execution_count": null,
      "outputs": [
        {
          "output_type": "execute_result",
          "data": {
            "text/plain": [
              "[<matplotlib.lines.Line2D at 0x7fccb981dfd0>]"
            ]
          },
          "metadata": {},
          "execution_count": 44
        },
        {
          "output_type": "display_data",
          "data": {
            "image/png": "[encoded data removed]",
            "text/plain": [
              "<Figure size 432x288 with 1 Axes>"
            ]
          },
          "metadata": {
            "needs_background": "light"
          }
        }
      ]
    },
    {
      "cell_type": "code",
      "source": [
        "plt.plot(history.history['val_loss'])"
      ],
      "metadata": {
        "colab": {
          "base_uri": "https://localhost:8080/",
          "height": 302
        },
        "id": "UnGH8MdHdd5V",
        "outputId": "d3d593af-27c5-40f8-ec84-6abb65236748"
      },
      "execution_count": null,
      "outputs": [
        {
          "output_type": "execute_result",
          "data": {
            "text/plain": [
              "[<matplotlib.lines.Line2D at 0x7fccb995ca10>]"
            ]
          },
          "metadata": {},
          "execution_count": 45
        },
        {
          "output_type": "display_data",
          "data": {
            "image/png": "[encoded data removed]",
            "text/plain": [
              "<Figure size 432x288 with 1 Axes>"
            ]
          },
          "metadata": {
            "needs_background": "light"
          }
        }
      ]
    },
    {
      "cell_type": "code",
      "source": [
        ""
      ],
      "metadata": {
        "id": "Rqa8z0ODdg4l"
      },
      "execution_count": null,
      "outputs": []
    }
  ]
}